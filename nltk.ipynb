{
 "cells": [
  {
   "cell_type": "code",
   "execution_count": 2,
   "metadata": {},
   "outputs": [],
   "source": [
    "from nltk.corpus import movie_reviews as mr\n",
    "import nltk\n",
    "\n",
    "pos = nltk.pos_tag(mr.words(categories=mr.categories()))"
   ]
  },
  {
   "cell_type": "code",
   "execution_count": 3,
   "metadata": {
    "scrolled": true
   },
   "outputs": [],
   "source": [
    "count={}\n",
    "s=set()\n",
    "key=[]\n",
    "for i in range(len(pos)):\n",
    "    key.append(pos[i][1])\n",
    "for i in key:\n",
    "    s.add(i)\n",
    "ls=list(s)\n",
    "for i in ls:\n",
    "    count[i]=0\n",
    "trash = ['#','$', \"''\", '(',')', ',', '.', ':']\n",
    "for i in trash:\n",
    "    del count[i]"
   ]
  },
  {
   "cell_type": "code",
   "execution_count": 8,
   "metadata": {
    "collapsed": true
   },
   "outputs": [],
   "source": [
    "for i in range(len(pos)):\n",
    "    if pos[i][1] in list(count.keys()):\n",
    "        count[pos[i][1]] += 1"
   ]
  },
  {
   "cell_type": "code",
   "execution_count": 9,
   "metadata": {
    "scrolled": true
   },
   "outputs": [
    {
     "data": {
      "text/plain": [
       "{'CC': 48916,\n",
       " 'CD': 15524,\n",
       " 'DT': 148705,\n",
       " 'EX': 3224,\n",
       " 'FW': 1116,\n",
       " 'IN': 157983,\n",
       " 'JJ': 140623,\n",
       " 'JJR': 4019,\n",
       " 'JJS': 4487,\n",
       " 'LS': 3,\n",
       " 'MD': 11719,\n",
       " 'NN': 304925,\n",
       " 'NNP': 7145,\n",
       " 'NNPS': 6,\n",
       " 'NNS': 67938,\n",
       " 'PDT': 1474,\n",
       " 'POS': 6991,\n",
       " 'PRP': 50649,\n",
       " 'PRP$': 21834,\n",
       " 'RB': 78522,\n",
       " 'RBR': 2615,\n",
       " 'RBS': 1335,\n",
       " 'RP': 6932,\n",
       " 'SYM': 1105,\n",
       " 'TO': 31937,\n",
       " 'UH': 532,\n",
       " 'VB': 48479,\n",
       " 'VBD': 23312,\n",
       " 'VBG': 28301,\n",
       " 'VBN': 28594,\n",
       " 'VBP': 29469,\n",
       " 'VBZ': 61921,\n",
       " 'WDT': 7490,\n",
       " 'WP': 9238,\n",
       " 'WP$': 436,\n",
       " 'WRB': 7218,\n",
       " '``': 491}"
      ]
     },
     "execution_count": 9,
     "metadata": {},
     "output_type": "execute_result"
    }
   ],
   "source": [
    "count"
   ]
  },
  {
   "cell_type": "code",
   "execution_count": 11,
   "metadata": {},
   "outputs": [
    {
     "data": {
      "image/png": "[encoded data removed]",
      "text/plain": [
       "<matplotlib.figure.Figure at 0x2495fc4d198>"
      ]
     },
     "metadata": {},
     "output_type": "display_data"
    }
   ],
   "source": [
    "%matplotlib inline\n",
    "import numpy as np\n",
    "import matplotlib.pyplot as plt\n",
    "ind = np.arange(len(count))\n",
    "plt.bar(ind,list(count.values()))\n",
    "plt.xticks(ind,(count.keys()))\n",
    "plt.show()"
   ]
  }
 ],
 "metadata": {
  "kernelspec": {
   "display_name": "Python 3",
   "language": "python",
   "name": "python3"
  },
  "language_info": {
   "codemirror_mode": {
    "name": "ipython",
    "version": 3
   },
   "file_extension": ".py",
   "mimetype": "text/x-python",
   "name": "python",
   "nbconvert_exporter": "python",
   "pygments_lexer": "ipython3",
   "version": "3.6.1"
  }
 },
 "nbformat": 4,
 "nbformat_minor": 2
}
